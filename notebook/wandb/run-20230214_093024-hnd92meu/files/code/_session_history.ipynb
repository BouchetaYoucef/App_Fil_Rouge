{
 "cells": [
  {
   "cell_type": "code",
   "execution_count": 1,
   "id": "b104fe79",
   "metadata": {},
   "outputs": [],
   "source": [
    "import mysql.connector\n",
    "import pymysql\n",
    "import sqlite3"
   ]
  },
  {
   "cell_type": "code",
   "execution_count": 2,
   "id": "673fda06",
   "metadata": {},
   "outputs": [],
   "source": [
    "df_clean_train=pd.read_sql(query , data_base)\n",
    "# df_clean=pd.read_csv(query , data_base)\n",
    "# metttre le chemin la ou il se trouve"
   ]
  },
  {
   "cell_type": "code",
   "execution_count": 3,
   "id": "c48dabd8",
   "metadata": {},
   "outputs": [],
   "source": [
    "import mysql.connector\n",
    "import pymysql\n",
    "import sqlite3"
   ]
  },
  {
   "cell_type": "code",
   "execution_count": 4,
   "id": "88967c47",
   "metadata": {},
   "outputs": [],
   "source": [
    "data_base = mysql.connector.connect(host=\"localhost\" , user=\"root\" , password=\"youcef\" , database=\"loan_prediction\")\n",
    "cur = data_base.cursor(buffered=True)\n",
    "query = \"select * from loan_prediction.df_clean_train\"\n",
    "cur.execute(query)\n",
    "tables = cur.fetchone()"
   ]
  },
  {
   "cell_type": "code",
   "execution_count": 5,
   "id": "19022710",
   "metadata": {},
   "outputs": [],
   "source": [
    "df_clean_train=pd.read_sql(query , data_base)\n",
    "# df_clean=pd.read_csv(query , data_base)\n",
    "# metttre le chemin la ou il se trouve"
   ]
  },
  {
   "cell_type": "code",
   "execution_count": 6,
   "id": "70c8e09d",
   "metadata": {},
   "outputs": [],
   "source": [
    "import mysql.connector\n",
    "import pymysql\n",
    "import sqlite3"
   ]
  },
  {
   "cell_type": "code",
   "execution_count": 7,
   "id": "0103cf3f",
   "metadata": {},
   "outputs": [],
   "source": [
    "df_clean_train=pd.read_sql(query , data_base)\n",
    "# df_clean=pd.read_csv(query , data_base)\n",
    "# metttre le chemin la ou il se trouve"
   ]
  },
  {
   "cell_type": "code",
   "execution_count": 8,
   "id": "bffdb0d3",
   "metadata": {},
   "outputs": [],
   "source": [
    "data_base = mysql.connector.connect(host=\"localhost\" , user=\"root\" , password=\"youcef\" , database=\"loan_prediction\")\n",
    "cur = data_base.cursor(buffered=True)\n",
    "query = \"select * from loan_prediction.df_clean_train\"\n",
    "cur.execute(query)\n",
    "tables = cur.fetchone()"
   ]
  },
  {
   "cell_type": "code",
   "execution_count": 9,
   "id": "af36c644",
   "metadata": {},
   "outputs": [],
   "source": [
    "# Importer les packages\n",
    "import pandas as pd\n",
    "import matplotlib.pyplot as plt\n",
    "import seaborn as sns\n",
    "\n",
    "from sklearn.linear_model import LogisticRegression\n",
    "from sklearn.model_selection import train_test_split\n",
    "from sklearn.metrics import accuracy_score,classification_report\n",
    "# from sklearn.metrics import plot_confusion_matrix\n",
    "from sklearn.metrics import confusion_matrix\n",
    "from sklearn.model_selection import learning_curve\n",
    "from imblearn.over_sampling import SMOTE\n",
    "from imblearn.pipeline import Pipeline as imbpipeline\n",
    "from sklearn.pipeline import Pipeline , make_pipeline\n",
    "from sklearn.preprocessing import MinMaxScaler\n",
    "from sklearn.preprocessing import StandardScaler\n",
    "from sklearn.dummy import DummyClassifier\n",
    "# from transformers import pipeline\n",
    "from sklearn.pipeline import make_pipeline\n",
    "from sklearn.preprocessing import LabelEncoder\n",
    "from sklearn.preprocessing import OneHotEncoder\n",
    "\n",
    "from sklearn.pipeline import Pipeline\n",
    "from sklearn.compose import ColumnTransformer\n",
    "\n",
    "from sklearn.model_selection import train_test_split\n",
    "from sklearn.model_selection import learning_curve\n",
    "\n",
    "from sklearn.model_selection import GridSearchCV , cross_val_score\n",
    "from sklearn.neighbors import KNeighborsClassifier\n",
    "from sklearn.svm import SVC\n",
    "from sklearn.ensemble import BaggingClassifier , AdaBoostClassifier , StackingClassifier , GradientBoostingClassifier\n",
    "# from sklearn.metrics import plot_confusion_matrix , classification_report\n",
    "from scikitplot.estimators import plot_learning_curve\n",
    "import scikitplot as skplt\n",
    "from yellowbrick.model_selection import LearningCurve\n",
    "from sklearn.neighbors import KNeighborsClassifier\n",
    "from sklearn.tree import DecisionTreeClassifier\n",
    "from sklearn.ensemble import GradientBoostingClassifier\n",
    "from sklearn.model_selection import cross_validate\n",
    "from sklearn.model_selection import cross_val_score\n",
    "from sklearn.model_selection import cross_val_predict\n",
    "from sklearn.ensemble import RandomForestClassifier\n",
    "from sklearn.pipeline import FeatureUnion\n",
    "import pickle"
   ]
  },
  {
   "cell_type": "code",
   "execution_count": 10,
   "id": "15f37e3d",
   "metadata": {},
   "outputs": [],
   "source": [
    "df_clean_train=pd.read_sql(query , data_base)\n",
    "# df_clean=pd.read_csv(query , data_base)\n",
    "# metttre le chemin la ou il se trouve"
   ]
  },
  {
   "cell_type": "code",
   "execution_count": 11,
   "id": "9676ed16",
   "metadata": {},
   "outputs": [],
   "source": [
    "import mysql.connector\n",
    "import pymysql\n",
    "import sqlite3"
   ]
  },
  {
   "cell_type": "code",
   "execution_count": 12,
   "id": "59efc186",
   "metadata": {},
   "outputs": [],
   "source": [
    "df_clean_train=pd.read_sql(query , data_base)\n",
    "# df_clean=pd.read_csv(query , data_base)\n",
    "# metttre le chemin la ou il se trouve"
   ]
  },
  {
   "cell_type": "code",
   "execution_count": 13,
   "id": "a7f55b00",
   "metadata": {},
   "outputs": [],
   "source": [
    "data_base = mysql.connector.connect(host=\"localhost\" , user=\"root\" , password=\"youcef\" , database=\"loan_prediction\")\n",
    "cur = data_base.cursor(buffered=True)\n",
    "query = \"select * from loan_prediction.df_clean_train\"\n",
    "cur.execute(query)\n",
    "tables = cur.fetchone()"
   ]
  },
  {
   "cell_type": "code",
   "execution_count": 14,
   "id": "a63fe679",
   "metadata": {},
   "outputs": [],
   "source": [
    "# Importer les packages\n",
    "import pandas as pd\n",
    "import matplotlib.pyplot as plt\n",
    "import seaborn as sns\n",
    "\n",
    "from sklearn.linear_model import LogisticRegression\n",
    "from sklearn.model_selection import train_test_split\n",
    "from sklearn.metrics import accuracy_score,classification_report\n",
    "# from sklearn.metrics import plot_confusion_matrix\n",
    "from sklearn.metrics import confusion_matrix\n",
    "from sklearn.model_selection import learning_curve\n",
    "from imblearn.over_sampling import SMOTE\n",
    "from imblearn.pipeline import Pipeline as imbpipeline\n",
    "from sklearn.pipeline import Pipeline , make_pipeline\n",
    "from sklearn.preprocessing import MinMaxScaler\n",
    "from sklearn.preprocessing import StandardScaler\n",
    "from sklearn.dummy import DummyClassifier\n",
    "# from transformers import pipeline\n",
    "from sklearn.pipeline import make_pipeline\n",
    "from sklearn.preprocessing import LabelEncoder\n",
    "from sklearn.preprocessing import OneHotEncoder\n",
    "\n",
    "from sklearn.pipeline import Pipeline\n",
    "from sklearn.compose import ColumnTransformer\n",
    "\n",
    "from sklearn.model_selection import train_test_split\n",
    "from sklearn.model_selection import learning_curve\n",
    "\n",
    "from sklearn.model_selection import GridSearchCV , cross_val_score\n",
    "from sklearn.neighbors import KNeighborsClassifier\n",
    "from sklearn.svm import SVC\n",
    "from sklearn.ensemble import BaggingClassifier , AdaBoostClassifier , StackingClassifier , GradientBoostingClassifier\n",
    "# from sklearn.metrics import plot_confusion_matrix , classification_report\n",
    "from scikitplot.estimators import plot_learning_curve\n",
    "import scikitplot as skplt\n",
    "from yellowbrick.model_selection import LearningCurve\n",
    "from sklearn.neighbors import KNeighborsClassifier\n",
    "from sklearn.tree import DecisionTreeClassifier\n",
    "from sklearn.ensemble import GradientBoostingClassifier\n",
    "from sklearn.model_selection import cross_validate\n",
    "from sklearn.model_selection import cross_val_score\n",
    "from sklearn.model_selection import cross_val_predict\n",
    "from sklearn.ensemble import RandomForestClassifier\n",
    "from sklearn.pipeline import FeatureUnion\n",
    "import pickle"
   ]
  },
  {
   "cell_type": "code",
   "execution_count": 15,
   "id": "ba7af242",
   "metadata": {},
   "outputs": [
    {
     "name": "stdout",
     "output_type": "stream",
     "text": [
      "     MyUnknownColumn   Loan_ID  Gender Married  Dependents     Education  \\\n",
      "0                  0  LP001002    Male      No           0      Graduate   \n",
      "1                  1  LP001003    Male     Yes           1      Graduate   \n",
      "2                  2  LP001005    Male     Yes           0      Graduate   \n",
      "3                  3  LP001006    Male     Yes           0  Not Graduate   \n",
      "4                  4  LP001008    Male      No           0      Graduate   \n",
      "..               ...       ...     ...     ...         ...           ...   \n",
      "558              608  LP002974    Male     Yes           0      Graduate   \n",
      "559              609  LP002978  Female      No           0      Graduate   \n",
      "560              611  LP002983    Male     Yes           1      Graduate   \n",
      "561              612  LP002984    Male     Yes           2      Graduate   \n",
      "562              613  LP002990  Female      No           0      Graduate   \n",
      "\n",
      "    Self_Employed  ApplicantIncome  CoapplicantIncome  LoanAmount  \\\n",
      "0              No             5849                0.0       128.0   \n",
      "1              No             4583             1508.0       128.0   \n",
      "2             Yes             3000                0.0        66.0   \n",
      "3              No             2583             2358.0       120.0   \n",
      "4              No             6000                0.0       141.0   \n",
      "..            ...              ...                ...         ...   \n",
      "558            No             3232             1950.0       108.0   \n",
      "559            No             2900                0.0        71.0   \n",
      "560            No             8072              240.0       253.0   \n",
      "561            No             7583                0.0       187.0   \n",
      "562           Yes             4583                0.0       133.0   \n",
      "\n",
      "     Loan_Amount_Term  Credit_History Property_Area Loan_Status  \n",
      "0               360.0             1.0         Urban           Y  \n",
      "1               360.0             1.0         Rural           N  \n",
      "2               360.0             1.0         Urban           Y  \n",
      "3               360.0             1.0         Urban           Y  \n",
      "4               360.0             1.0         Urban           Y  \n",
      "..                ...             ...           ...         ...  \n",
      "558             360.0             1.0         Rural           Y  \n",
      "559             360.0             1.0         Rural           Y  \n",
      "560             360.0             1.0         Urban           Y  \n",
      "561             360.0             1.0         Urban           Y  \n",
      "562             360.0             0.0     Semiurban           N  \n",
      "\n",
      "[563 rows x 14 columns]"
     ]
    }
   ],
   "source": [
    "df_clean_train"
   ]
  },
  {
   "cell_type": "code",
   "execution_count": 16,
   "id": "1e5163ed",
   "metadata": {},
   "outputs": [],
   "source": [
    "df_clean_train.info()"
   ]
  },
  {
   "cell_type": "code",
   "execution_count": 17,
   "id": "01d3edaa",
   "metadata": {},
   "outputs": [
    {
     "name": "stdout",
     "output_type": "stream",
     "text": [
      "   MyUnknownColumn   Loan_ID Gender Married  Dependents     Education  \\\n",
      "0                0  LP001002   Male      No           0      Graduate   \n",
      "1                1  LP001003   Male     Yes           1      Graduate   \n",
      "2                2  LP001005   Male     Yes           0      Graduate   \n",
      "3                3  LP001006   Male     Yes           0  Not Graduate   \n",
      "4                4  LP001008   Male      No           0      Graduate   \n",
      "\n",
      "  Self_Employed  ApplicantIncome  CoapplicantIncome  LoanAmount  \\\n",
      "0            No             5849                0.0       128.0   \n",
      "1            No             4583             1508.0       128.0   \n",
      "2           Yes             3000                0.0        66.0   \n",
      "3            No             2583             2358.0       120.0   \n",
      "4            No             6000                0.0       141.0   \n",
      "\n",
      "   Loan_Amount_Term  Credit_History Property_Area Loan_Status  \n",
      "0             360.0             1.0         Urban           Y  \n",
      "1             360.0             1.0         Rural           N  \n",
      "2             360.0             1.0         Urban           Y  \n",
      "3             360.0             1.0         Urban           Y  \n",
      "4             360.0             1.0         Urban           Y  "
     ]
    }
   ],
   "source": [
    "df_clean_train.head()"
   ]
  },
  {
   "cell_type": "code",
   "execution_count": 18,
   "id": "11100279",
   "metadata": {},
   "outputs": [
    {
     "name": "stdout",
     "output_type": "stream",
     "text": [
      "     MyUnknownColumn  Gender Married  Dependents     Education Self_Employed  \\\n",
      "0                  0    Male      No           0      Graduate            No   \n",
      "1                  1    Male     Yes           1      Graduate            No   \n",
      "2                  2    Male     Yes           0      Graduate           Yes   \n",
      "3                  3    Male     Yes           0  Not Graduate            No   \n",
      "4                  4    Male      No           0      Graduate            No   \n",
      "..               ...     ...     ...         ...           ...           ...   \n",
      "558              608    Male     Yes           0      Graduate            No   \n",
      "559              609  Female      No           0      Graduate            No   \n",
      "560              611    Male     Yes           1      Graduate            No   \n",
      "561              612    Male     Yes           2      Graduate            No   \n",
      "562              613  Female      No           0      Graduate           Yes   \n",
      "\n",
      "     ApplicantIncome  CoapplicantIncome  LoanAmount  Loan_Amount_Term  \\\n",
      "0               5849                0.0       128.0             360.0   \n",
      "1               4583             1508.0       128.0             360.0   \n",
      "2               3000                0.0        66.0             360.0   \n",
      "3               2583             2358.0       120.0             360.0   \n",
      "4               6000                0.0       141.0             360.0   \n",
      "..               ...                ...         ...               ...   \n",
      "558             3232             1950.0       108.0             360.0   \n",
      "559             2900                0.0        71.0             360.0   \n",
      "560             8072              240.0       253.0             360.0   \n",
      "561             7583                0.0       187.0             360.0   \n",
      "562             4583                0.0       133.0             360.0   \n",
      "\n",
      "     Credit_History Property_Area Loan_Status  \n",
      "0               1.0         Urban           Y  \n",
      "1               1.0         Rural           N  \n",
      "2               1.0         Urban           Y  \n",
      "3               1.0         Urban           Y  \n",
      "4               1.0         Urban           Y  \n",
      "..              ...           ...         ...  \n",
      "558             1.0         Rural           Y  \n",
      "559             1.0         Rural           Y  \n",
      "560             1.0         Urban           Y  \n",
      "561             1.0         Urban           Y  \n",
      "562             0.0     Semiurban           N  \n",
      "\n",
      "[563 rows x 13 columns]"
     ]
    }
   ],
   "source": [
    "df_clean_train.drop(['Loan_ID'], axis=1)"
   ]
  },
  {
   "cell_type": "code",
   "execution_count": 19,
   "id": "0201204f",
   "metadata": {},
   "outputs": [],
   "source": [
    "df_clean_train = df_clean_train.drop(['Loan_ID', 'MyUnknownColumn'], axis=1)"
   ]
  },
  {
   "cell_type": "code",
   "execution_count": 20,
   "id": "80f9d550",
   "metadata": {},
   "outputs": [
    {
     "name": "stdout",
     "output_type": "stream",
     "text": [
      "     Gender Married  Dependents     Education Self_Employed  ApplicantIncome  \\\n",
      "0      Male      No           0      Graduate            No             5849   \n",
      "1      Male     Yes           1      Graduate            No             4583   \n",
      "2      Male     Yes           0      Graduate           Yes             3000   \n",
      "3      Male     Yes           0  Not Graduate            No             2583   \n",
      "4      Male      No           0      Graduate            No             6000   \n",
      "..      ...     ...         ...           ...           ...              ...   \n",
      "558    Male     Yes           0      Graduate            No             3232   \n",
      "559  Female      No           0      Graduate            No             2900   \n",
      "560    Male     Yes           1      Graduate            No             8072   \n",
      "561    Male     Yes           2      Graduate            No             7583   \n",
      "562  Female      No           0      Graduate           Yes             4583   \n",
      "\n",
      "     CoapplicantIncome  LoanAmount  Loan_Amount_Term  Credit_History  \\\n",
      "0                  0.0       128.0             360.0             1.0   \n",
      "1               1508.0       128.0             360.0             1.0   \n",
      "2                  0.0        66.0             360.0             1.0   \n",
      "3               2358.0       120.0             360.0             1.0   \n",
      "4                  0.0       141.0             360.0             1.0   \n",
      "..                 ...         ...               ...             ...   \n",
      "558             1950.0       108.0             360.0             1.0   \n",
      "559                0.0        71.0             360.0             1.0   \n",
      "560              240.0       253.0             360.0             1.0   \n",
      "561                0.0       187.0             360.0             1.0   \n",
      "562                0.0       133.0             360.0             0.0   \n",
      "\n",
      "    Property_Area Loan_Status  \n",
      "0           Urban           Y  \n",
      "1           Rural           N  \n",
      "2           Urban           Y  \n",
      "3           Urban           Y  \n",
      "4           Urban           Y  \n",
      "..            ...         ...  \n",
      "558         Rural           Y  \n",
      "559         Rural           Y  \n",
      "560         Urban           Y  \n",
      "561         Urban           Y  \n",
      "562     Semiurban           N  \n",
      "\n",
      "[563 rows x 12 columns]"
     ]
    }
   ],
   "source": [
    "df_clean_train"
   ]
  },
  {
   "cell_type": "code",
   "execution_count": 21,
   "id": "6c879d11",
   "metadata": {},
   "outputs": [],
   "source": [
    "df_clean_train.info()"
   ]
  },
  {
   "cell_type": "code",
   "execution_count": 22,
   "id": "b62cb013",
   "metadata": {},
   "outputs": [],
   "source": [
    "df_clean_train.dropna(inplace=True)"
   ]
  },
  {
   "cell_type": "code",
   "execution_count": 23,
   "id": "7e0424a0",
   "metadata": {},
   "outputs": [
    {
     "name": "stdout",
     "output_type": "stream",
     "text": [
      "     Gender Married  Dependents     Education Self_Employed  ApplicantIncome  \\\n",
      "0      Male      No           0      Graduate            No             5849   \n",
      "1      Male     Yes           1      Graduate            No             4583   \n",
      "2      Male     Yes           0      Graduate           Yes             3000   \n",
      "3      Male     Yes           0  Not Graduate            No             2583   \n",
      "4      Male      No           0      Graduate            No             6000   \n",
      "..      ...     ...         ...           ...           ...              ...   \n",
      "558    Male     Yes           0      Graduate            No             3232   \n",
      "559  Female      No           0      Graduate            No             2900   \n",
      "560    Male     Yes           1      Graduate            No             8072   \n",
      "561    Male     Yes           2      Graduate            No             7583   \n",
      "562  Female      No           0      Graduate           Yes             4583   \n",
      "\n",
      "     CoapplicantIncome  LoanAmount  Loan_Amount_Term  Credit_History  \\\n",
      "0                  0.0       128.0             360.0             1.0   \n",
      "1               1508.0       128.0             360.0             1.0   \n",
      "2                  0.0        66.0             360.0             1.0   \n",
      "3               2358.0       120.0             360.0             1.0   \n",
      "4                  0.0       141.0             360.0             1.0   \n",
      "..                 ...         ...               ...             ...   \n",
      "558             1950.0       108.0             360.0             1.0   \n",
      "559                0.0        71.0             360.0             1.0   \n",
      "560              240.0       253.0             360.0             1.0   \n",
      "561                0.0       187.0             360.0             1.0   \n",
      "562                0.0       133.0             360.0             0.0   \n",
      "\n",
      "    Property_Area  Loan_Status  \n",
      "0           Urban            1  \n",
      "1           Rural            0  \n",
      "2           Urban            1  \n",
      "3           Urban            1  \n",
      "4           Urban            1  \n",
      "..            ...          ...  \n",
      "558         Rural            1  \n",
      "559         Rural            1  \n",
      "560         Urban            1  \n",
      "561         Urban            1  \n",
      "562     Semiurban            0  \n",
      "\n",
      "[563 rows x 12 columns]"
     ]
    }
   ],
   "source": [
    "lBE = LabelEncoder()\n",
    "categ = [\"Loan_Status\"]\n",
    "df_clean_train[categ] = df_clean_train[categ].apply(lBE.fit_transform)\n",
    "df_clean_train"
   ]
  },
  {
   "cell_type": "code",
   "execution_count": 24,
   "id": "2b28c46a",
   "metadata": {},
   "outputs": [
    {
     "name": "stdout",
     "output_type": "stream",
     "text": [
      "     Gender_Female  Gender_Male  Married_No  Married_Yes  Dependents_0  \\\n",
      "0              0.0          1.0         1.0          0.0           1.0   \n",
      "1              0.0          1.0         0.0          1.0           0.0   \n",
      "2              0.0          1.0         0.0          1.0           1.0   \n",
      "3              0.0          1.0         0.0          1.0           1.0   \n",
      "4              0.0          1.0         1.0          0.0           1.0   \n",
      "..             ...          ...         ...          ...           ...   \n",
      "558            0.0          1.0         0.0          1.0           1.0   \n",
      "559            1.0          0.0         1.0          0.0           1.0   \n",
      "560            0.0          1.0         0.0          1.0           0.0   \n",
      "561            0.0          1.0         0.0          1.0           0.0   \n",
      "562            1.0          0.0         1.0          0.0           1.0   \n",
      "\n",
      "     Dependents_1  Dependents_2  Education_Graduate  Education_Not Graduate  \\\n",
      "0             0.0           0.0                 1.0                     0.0   \n",
      "1             1.0           0.0                 1.0                     0.0   \n",
      "2             0.0           0.0                 1.0                     0.0   \n",
      "3             0.0           0.0                 0.0                     1.0   \n",
      "4             0.0           0.0                 1.0                     0.0   \n",
      "..            ...           ...                 ...                     ...   \n",
      "558           0.0           0.0                 1.0                     0.0   \n",
      "559           0.0           0.0                 1.0                     0.0   \n",
      "560           1.0           0.0                 1.0                     0.0   \n",
      "561           0.0           1.0                 1.0                     0.0   \n",
      "562           0.0           0.0                 1.0                     0.0   \n",
      "\n",
      "     Self_Employed_No  Self_Employed_Yes  Property_Area_Rural  \\\n",
      "0                 1.0                0.0                  0.0   \n",
      "1                 1.0                0.0                  1.0   \n",
      "2                 0.0                1.0                  0.0   \n",
      "3                 1.0                0.0                  0.0   \n",
      "4                 1.0                0.0                  0.0   \n",
      "..                ...                ...                  ...   \n",
      "558               1.0                0.0                  1.0   \n",
      "559               1.0                0.0                  1.0   \n",
      "560               1.0                0.0                  0.0   \n",
      "561               1.0                0.0                  0.0   \n",
      "562               0.0                1.0                  0.0   \n",
      "\n",
      "     Property_Area_Semiurban  Property_Area_Urban  \n",
      "0                        0.0                  1.0  \n",
      "1                        0.0                  0.0  \n",
      "2                        0.0                  1.0  \n",
      "3                        0.0                  1.0  \n",
      "4                        0.0                  1.0  \n",
      "..                       ...                  ...  \n",
      "558                      0.0                  0.0  \n",
      "559                      0.0                  0.0  \n",
      "560                      0.0                  1.0  \n",
      "561                      0.0                  1.0  \n",
      "562                      1.0                  0.0  \n",
      "\n",
      "[563 rows x 14 columns]"
     ]
    }
   ],
   "source": [
    "ohe = OneHotEncoder(handle_unknown='ignore')\n",
    "One_hot = pd.DataFrame(ohe.fit_transform(df_clean_train[[\"Gender\", \"Married\", \"Dependents\", \"Education\", \"Self_Employed\", \"Property_Area\"]]).toarray())\n",
    "One_hot.columns = ohe.get_feature_names_out([\"Gender\", \"Married\", \"Dependents\", \"Education\", \"Self_Employed\", \"Property_Area\"])\n",
    "One_hot"
   ]
  },
  {
   "cell_type": "code",
   "execution_count": 25,
   "id": "64873653",
   "metadata": {},
   "outputs": [],
   "source": [
    "df_encoded = pd.concat([df_clean_train, One_hot], axis=1)"
   ]
  },
  {
   "cell_type": "code",
   "execution_count": 26,
   "id": "9d7f446e",
   "metadata": {},
   "outputs": [
    {
     "name": "stdout",
     "output_type": "stream",
     "text": [
      "     Gender Married  Dependents     Education Self_Employed  ApplicantIncome  \\\n",
      "0      Male      No           0      Graduate            No             5849   \n",
      "1      Male     Yes           1      Graduate            No             4583   \n",
      "2      Male     Yes           0      Graduate           Yes             3000   \n",
      "3      Male     Yes           0  Not Graduate            No             2583   \n",
      "4      Male      No           0      Graduate            No             6000   \n",
      "..      ...     ...         ...           ...           ...              ...   \n",
      "558    Male     Yes           0      Graduate            No             3232   \n",
      "559  Female      No           0      Graduate            No             2900   \n",
      "560    Male     Yes           1      Graduate            No             8072   \n",
      "561    Male     Yes           2      Graduate            No             7583   \n",
      "562  Female      No           0      Graduate           Yes             4583   \n",
      "\n",
      "     CoapplicantIncome  LoanAmount  Loan_Amount_Term  Credit_History  ...  \\\n",
      "0                  0.0       128.0             360.0             1.0  ...   \n",
      "1               1508.0       128.0             360.0             1.0  ...   \n",
      "2                  0.0        66.0             360.0             1.0  ...   \n",
      "3               2358.0       120.0             360.0             1.0  ...   \n",
      "4                  0.0       141.0             360.0             1.0  ...   \n",
      "..                 ...         ...               ...             ...  ...   \n",
      "558             1950.0       108.0             360.0             1.0  ...   \n",
      "559                0.0        71.0             360.0             1.0  ...   \n",
      "560              240.0       253.0             360.0             1.0  ...   \n",
      "561                0.0       187.0             360.0             1.0  ...   \n",
      "562                0.0       133.0             360.0             0.0  ...   \n",
      "\n",
      "    Dependents_0  Dependents_1  Dependents_2  Education_Graduate  \\\n",
      "0            1.0           0.0           0.0                 1.0   \n",
      "1            0.0           1.0           0.0                 1.0   \n",
      "2            1.0           0.0           0.0                 1.0   \n",
      "3            1.0           0.0           0.0                 0.0   \n",
      "4            1.0           0.0           0.0                 1.0   \n",
      "..           ...           ...           ...                 ...   \n",
      "558          1.0           0.0           0.0                 1.0   \n",
      "559          1.0           0.0           0.0                 1.0   \n",
      "560          0.0           1.0           0.0                 1.0   \n",
      "561          0.0           0.0           1.0                 1.0   \n",
      "562          1.0           0.0           0.0                 1.0   \n",
      "\n",
      "     Education_Not Graduate  Self_Employed_No  Self_Employed_Yes  \\\n",
      "0                       0.0               1.0                0.0   \n",
      "1                       0.0               1.0                0.0   \n",
      "2                       0.0               0.0                1.0   \n",
      "3                       1.0               1.0                0.0   \n",
      "4                       0.0               1.0                0.0   \n",
      "..                      ...               ...                ...   \n",
      "558                     0.0               1.0                0.0   \n",
      "559                     0.0               1.0                0.0   \n",
      "560                     0.0               1.0                0.0   \n",
      "561                     0.0               1.0                0.0   \n",
      "562                     0.0               0.0                1.0   \n",
      "\n",
      "     Property_Area_Rural  Property_Area_Semiurban  Property_Area_Urban  \n",
      "0                    0.0                      0.0                  1.0  \n",
      "1                    1.0                      0.0                  0.0  \n",
      "2                    0.0                      0.0                  1.0  \n",
      "3                    0.0                      0.0                  1.0  \n",
      "4                    0.0                      0.0                  1.0  \n",
      "..                   ...                      ...                  ...  \n",
      "558                  1.0                      0.0                  0.0  \n",
      "559                  1.0                      0.0                  0.0  \n",
      "560                  0.0                      0.0                  1.0  \n",
      "561                  0.0                      0.0                  1.0  \n",
      "562                  0.0                      1.0                  0.0  \n",
      "\n",
      "[563 rows x 26 columns]"
     ]
    }
   ],
   "source": [
    "df_encoded"
   ]
  },
  {
   "cell_type": "code",
   "execution_count": 27,
   "id": "71c1192a",
   "metadata": {},
   "outputs": [],
   "source": [
    "X = df_encoded.drop([\"Loan_Status\"], axis=1)\n",
    "y = df_encoded.Loan_Status"
   ]
  },
  {
   "cell_type": "code",
   "execution_count": 28,
   "id": "62053f12",
   "metadata": {},
   "outputs": [
    {
     "name": "stdout",
     "output_type": "stream",
     "text": [
      "[294    1\n",
      " 300    1\n",
      " 0      1\n",
      " 447    0\n",
      " 473    0\n",
      "       ..\n",
      " 86     1\n",
      " 18     1\n",
      " 443    1\n",
      " 301    1\n",
      " 59     0\n",
      " Name: Loan_Status, Length: 422, dtype: int32,\n",
      " 519    0\n",
      " 116    1\n",
      " 415    1\n",
      " 161    1\n",
      " 56     1\n",
      "       ..\n",
      " 238    1\n",
      " 537    0\n",
      " 112    1\n",
      " 219    1\n",
      " 442    1\n",
      " Name: Loan_Status, Length: 141, dtype: int32]"
     ]
    }
   ],
   "source": [
    "# stratified k-fold pour equilibré les données\n",
    "train_test_split(y, stratify=None)"
   ]
  },
  {
   "cell_type": "code",
   "execution_count": 29,
   "id": "0384def3",
   "metadata": {},
   "outputs": [],
   "source": [
    "# X_train, X_test, y_train, y_test = train_test_split(X, y, test_size=0.2, random_state=42, stratify)\n",
    "X_train, X_test, y_train, y_test = train_test_split(X, y, test_size=0.2, random_state=42, stratify=y)"
   ]
  },
  {
   "cell_type": "code",
   "execution_count": 30,
   "id": "98af7dbf",
   "metadata": {},
   "outputs": [],
   "source": [
    "numeric_features = [\"ApplicantIncome\", \"CoapplicantIncome\", \"LoanAmount\",\n",
    "                    \"Loan_Amount_Term\", \"Credit_History\"]\n",
    "numeric_transformer = Pipeline(\n",
    "    steps=[\n",
    "        (\"scaler\", MinMaxScaler())]\n",
    ")\n",
    "\n",
    "categorical_features = [\"Gender\", \"Married\", \"Dependents\",\n",
    "                        \"Education\", \"Self_Employed\", \"Property_Area\"]\n",
    "categorical_transformer = Pipeline(\n",
    "    steps=[\n",
    "        (\"encoder\", OneHotEncoder())\n",
    "    ]\n",
    ")\n",
    "preprocessor = ColumnTransformer(\n",
    "    transformers=[\n",
    "        (\"num\", numeric_transformer, numeric_features),\n",
    "        (\"cat\", categorical_transformer, categorical_features),\n",
    "    ]\n",
    ")"
   ]
  },
  {
   "cell_type": "code",
   "execution_count": 31,
   "id": "0fe022cf",
   "metadata": {},
   "outputs": [],
   "source": [
    "LogicReg = Pipeline(\n",
    "    steps=[\n",
    "        (\"preprocessor\", preprocessor),\n",
    "        (\"classifier\", LogisticRegression())]\n",
    ")"
   ]
  },
  {
   "cell_type": "code",
   "execution_count": 32,
   "id": "bcdf41d4",
   "metadata": {},
   "outputs": [
    {
     "name": "stdout",
     "output_type": "stream",
     "text": [
      "Pipeline(steps=[('preprocessor',\n",
      "                 ColumnTransformer(transformers=[('num',\n",
      "                                                  Pipeline(steps=[('scaler',\n",
      "                                                                   MinMaxScaler())]),\n",
      "                                                  ['ApplicantIncome',\n",
      "                                                   'CoapplicantIncome',\n",
      "                                                   'LoanAmount',\n",
      "                                                   'Loan_Amount_Term',\n",
      "                                                   'Credit_History']),\n",
      "                                                 ('cat',\n",
      "                                                  Pipeline(steps=[('encoder',\n",
      "                                                                   OneHotEncoder())]),\n",
      "                                                  ['Gender', 'Married',\n",
      "                                                   'Dependents', 'Education',\n",
      "                                                   'Self_Employed',\n",
      "                                                   'Property_Area'])])),\n",
      "                ('classifier', LogisticRegression())])"
     ]
    }
   ],
   "source": [
    "LogicReg.fit(X_train, y_train)"
   ]
  },
  {
   "cell_type": "code",
   "execution_count": 33,
   "id": "27d95f3e",
   "metadata": {},
   "outputs": [],
   "source": [
    "print(\"accuracy train : %.3f\"%LogicReg.score(X_train, y_train))\n",
    "print(\"accuracy test : %.3f\"%LogicReg.score(X_test , y_test))   "
   ]
  },
  {
   "cell_type": "code",
   "execution_count": 34,
   "id": "ba114f59",
   "metadata": {},
   "outputs": [],
   "source": [
    "y_pred_LogicReg = LogicReg.predict(X_test) "
   ]
  },
  {
   "cell_type": "code",
   "execution_count": 35,
   "id": "2d00b3aa",
   "metadata": {},
   "outputs": [],
   "source": [
    "print(classification_report(y_test, y_pred_LogicReg))"
   ]
  },
  {
   "cell_type": "code",
   "execution_count": 36,
   "id": "142f94d5",
   "metadata": {},
   "outputs": [],
   "source": [
    "# Matrice confusion\n",
    "def plot_confusion_matrix(y, y_pred):\n",
    "     cm = confusion_matrix(y, y_pred)\n",
    "     sns.heatmap(cm, annot=True, fmt=\".0f\")\n",
    "     plt.xlabel('y_pred')\n",
    "     plt.ylabel('y')\n",
    "     plt.show()\n",
    "\n",
    "plot_confusion_matrix(y_test, y_pred_LogicReg)"
   ]
  },
  {
   "cell_type": "code",
   "execution_count": 37,
   "id": "dfc0c32f",
   "metadata": {},
   "outputs": [
    {
     "name": "stdout",
     "output_type": "stream",
     "text": [
      "<AxesSubplot: title={'center': 'Learning Curve'}, xlabel='Training examples', ylabel='Score'>"
     ]
    }
   ],
   "source": [
    "plot_learning_curve(LogicReg,X_test , y_test)"
   ]
  },
  {
   "cell_type": "code",
   "execution_count": 38,
   "id": "2af95989",
   "metadata": {},
   "outputs": [
    {
     "name": "stdout",
     "output_type": "stream",
     "text": [
      "<AxesSubplot: title={'center': 'ROC Curves'}, xlabel='False Positive Rate', ylabel='True Positive Rate'>"
     ]
    }
   ],
   "source": [
    "LogicReg.fit(X_train, y_train)\n",
    "y_probas = LogicReg.predict_proba(X_test)\n",
    "skplt.metrics.plot_roc(y_test, y_probas)"
   ]
  },
  {
   "cell_type": "code",
   "execution_count": 39,
   "id": "56f45976",
   "metadata": {},
   "outputs": [],
   "source": [
    "KNC = Pipeline(\n",
    "    steps=[\n",
    "        (\"preprocessor\", preprocessor),\n",
    "        (\"classifier\",  KNeighborsClassifier())]\n",
    ")"
   ]
  },
  {
   "cell_type": "code",
   "execution_count": 40,
   "id": "a9954e1a",
   "metadata": {},
   "outputs": [
    {
     "name": "stdout",
     "output_type": "stream",
     "text": [
      "Pipeline(steps=[('preprocessor',\n",
      "                 ColumnTransformer(transformers=[('num',\n",
      "                                                  Pipeline(steps=[('scaler',\n",
      "                                                                   MinMaxScaler())]),\n",
      "                                                  ['ApplicantIncome',\n",
      "                                                   'CoapplicantIncome',\n",
      "                                                   'LoanAmount',\n",
      "                                                   'Loan_Amount_Term',\n",
      "                                                   'Credit_History']),\n",
      "                                                 ('cat',\n",
      "                                                  Pipeline(steps=[('encoder',\n",
      "                                                                   OneHotEncoder())]),\n",
      "                                                  ['Gender', 'Married',\n",
      "                                                   'Dependents', 'Education',\n",
      "                                                   'Self_Employed',\n",
      "                                                   'Property_Area'])])),\n",
      "                ('classifier', KNeighborsClassifier())])"
     ]
    }
   ],
   "source": [
    "KNC.fit(X_train, y_train)"
   ]
  },
  {
   "cell_type": "code",
   "execution_count": 41,
   "id": "70a1c7e8",
   "metadata": {},
   "outputs": [],
   "source": [
    "print(\"accuracy train : %.3f\"%KNC.score(X_train, y_train))\n",
    "print(\"accuracy test : %.3f\"%KNC.score(X_test , y_test))"
   ]
  },
  {
   "cell_type": "code",
   "execution_count": 42,
   "id": "ec731ae0",
   "metadata": {},
   "outputs": [],
   "source": [
    "y_pred_KNC = KNC.predict(X_test) "
   ]
  },
  {
   "cell_type": "code",
   "execution_count": 43,
   "id": "10f0d69a",
   "metadata": {},
   "outputs": [],
   "source": [
    "print(classification_report(y_test, y_pred_KNC))"
   ]
  },
  {
   "cell_type": "code",
   "execution_count": 44,
   "id": "8f91759e",
   "metadata": {},
   "outputs": [],
   "source": [
    "def plot_confusion_matrix(y, y_pred):\n",
    "     cm = confusion_matrix(y, y_pred)\n",
    "     sns.heatmap(cm, annot=True, fmt=\".0f\")\n",
    "     plt.xlabel('y_pred')\n",
    "     plt.ylabel('y')\n",
    "     plt.show()\n",
    "\n",
    "plot_confusion_matrix(y_test, y_pred_KNC)"
   ]
  },
  {
   "cell_type": "code",
   "execution_count": 45,
   "id": "fb8c0653",
   "metadata": {},
   "outputs": [
    {
     "name": "stdout",
     "output_type": "stream",
     "text": [
      "<AxesSubplot: title={'center': 'Learning Curve'}, xlabel='Training examples', ylabel='Score'>"
     ]
    }
   ],
   "source": [
    "plot_learning_curve(KNC,X_test , y_test)"
   ]
  },
  {
   "cell_type": "code",
   "execution_count": 46,
   "id": "1527d60d",
   "metadata": {},
   "outputs": [
    {
     "name": "stdout",
     "output_type": "stream",
     "text": [
      "<AxesSubplot: title={'center': 'ROC Curves'}, xlabel='False Positive Rate', ylabel='True Positive Rate'>"
     ]
    }
   ],
   "source": [
    "KNC.fit(X_train, y_train) \n",
    "y_probas = KNC.predict_proba(X_test)\n",
    "skplt.metrics.plot_roc(y_test, y_probas)"
   ]
  },
  {
   "cell_type": "code",
   "execution_count": 47,
   "id": "87bb0cf6",
   "metadata": {},
   "outputs": [],
   "source": [
    "DT = Pipeline(\n",
    "    steps=[\n",
    "        (\"preprocessor\", preprocessor),\n",
    "        (\"classifier\", DecisionTreeClassifier())]\n",
    ")"
   ]
  },
  {
   "cell_type": "code",
   "execution_count": 48,
   "id": "0c58585e",
   "metadata": {},
   "outputs": [
    {
     "name": "stdout",
     "output_type": "stream",
     "text": [
      "Pipeline(steps=[('preprocessor',\n",
      "                 ColumnTransformer(transformers=[('num',\n",
      "                                                  Pipeline(steps=[('scaler',\n",
      "                                                                   MinMaxScaler())]),\n",
      "                                                  ['ApplicantIncome',\n",
      "                                                   'CoapplicantIncome',\n",
      "                                                   'LoanAmount',\n",
      "                                                   'Loan_Amount_Term',\n",
      "                                                   'Credit_History']),\n",
      "                                                 ('cat',\n",
      "                                                  Pipeline(steps=[('encoder',\n",
      "                                                                   OneHotEncoder())]),\n",
      "                                                  ['Gender', 'Married',\n",
      "                                                   'Dependents', 'Education',\n",
      "                                                   'Self_Employed',\n",
      "                                                   'Property_Area'])])),\n",
      "                ('classifier', DecisionTreeClassifier())])"
     ]
    }
   ],
   "source": [
    "DT.fit(X_train, y_train)"
   ]
  },
  {
   "cell_type": "code",
   "execution_count": 49,
   "id": "18dd976b",
   "metadata": {},
   "outputs": [],
   "source": [
    "print(\"accuracy train : %.3f\"%DT.score(X_train, y_train))\n",
    "print(\"accuracy test : %.3f\"%DT.score(X_test , y_test))"
   ]
  },
  {
   "cell_type": "code",
   "execution_count": 50,
   "id": "14eb97c6",
   "metadata": {},
   "outputs": [],
   "source": [
    "y_pred_DT = DT.predict(X_test) "
   ]
  },
  {
   "cell_type": "code",
   "execution_count": 51,
   "id": "12c87922",
   "metadata": {},
   "outputs": [],
   "source": [
    "print(classification_report(y_test, y_pred_DT))"
   ]
  },
  {
   "cell_type": "code",
   "execution_count": 52,
   "id": "e7eb93c8",
   "metadata": {},
   "outputs": [],
   "source": [
    "def plot_confusion_matrix(y, y_pred):\n",
    "     cm = confusion_matrix(y, y_pred)\n",
    "     sns.heatmap(cm, annot=True, fmt=\".0f\")\n",
    "     plt.xlabel('y_pred')\n",
    "     plt.ylabel('y')\n",
    "     plt.show()\n",
    "\n",
    "plot_confusion_matrix(y_test, y_pred_KNC)"
   ]
  },
  {
   "cell_type": "code",
   "execution_count": 53,
   "id": "806a9e41",
   "metadata": {},
   "outputs": [
    {
     "name": "stdout",
     "output_type": "stream",
     "text": [
      "<AxesSubplot: title={'center': 'Learning Curve'}, xlabel='Training examples', ylabel='Score'>"
     ]
    }
   ],
   "source": [
    "plot_learning_curve(DT, X_test , y_test)"
   ]
  },
  {
   "cell_type": "code",
   "execution_count": 54,
   "id": "0a56a0c0",
   "metadata": {},
   "outputs": [
    {
     "name": "stdout",
     "output_type": "stream",
     "text": [
      "<AxesSubplot: title={'center': 'ROC Curves'}, xlabel='False Positive Rate', ylabel='True Positive Rate'>"
     ]
    }
   ],
   "source": [
    "DT.fit(X_train, y_train)\n",
    "y_probas = DT.predict_proba(X_test)\n",
    "skplt.metrics.plot_roc(y_test, y_probas)"
   ]
  },
  {
   "cell_type": "code",
   "execution_count": 55,
   "id": "63cef17f",
   "metadata": {},
   "outputs": [],
   "source": [
    "RFC = GBC = Pipeline(\n",
    "    steps=[\n",
    "        (\"preprocessor\", preprocessor),\n",
    "        (\"classifier\", RandomForestClassifier())]\n",
    ")"
   ]
  },
  {
   "cell_type": "code",
   "execution_count": 56,
   "id": "891cf52f",
   "metadata": {},
   "outputs": [
    {
     "name": "stdout",
     "output_type": "stream",
     "text": [
      "Pipeline(steps=[('preprocessor',\n",
      "                 ColumnTransformer(transformers=[('num',\n",
      "                                                  Pipeline(steps=[('scaler',\n",
      "                                                                   MinMaxScaler())]),\n",
      "                                                  ['ApplicantIncome',\n",
      "                                                   'CoapplicantIncome',\n",
      "                                                   'LoanAmount',\n",
      "                                                   'Loan_Amount_Term',\n",
      "                                                   'Credit_History']),\n",
      "                                                 ('cat',\n",
      "                                                  Pipeline(steps=[('encoder',\n",
      "                                                                   OneHotEncoder())]),\n",
      "                                                  ['Gender', 'Married',\n",
      "                                                   'Dependents', 'Education',\n",
      "                                                   'Self_Employed',\n",
      "                                                   'Property_Area'])])),\n",
      "                ('classifier', RandomForestClassifier())])"
     ]
    }
   ],
   "source": [
    "RFC.fit(X_train, y_train)"
   ]
  },
  {
   "cell_type": "code",
   "execution_count": 57,
   "id": "ed131f7b",
   "metadata": {},
   "outputs": [],
   "source": [
    "print(\"accuracy train : %.3f\"%RFC.score(X_train, y_train))\n",
    "print(\"accuracy test : %.3f\"%RFC.score(X_test , y_test))"
   ]
  },
  {
   "cell_type": "code",
   "execution_count": 58,
   "id": "31480895",
   "metadata": {},
   "outputs": [],
   "source": [
    "y_pred_RFC = RFC.predict(X_test) "
   ]
  },
  {
   "cell_type": "code",
   "execution_count": 59,
   "id": "60513e19",
   "metadata": {},
   "outputs": [],
   "source": [
    "print(classification_report(y_test, y_pred_RFC))"
   ]
  },
  {
   "cell_type": "code",
   "execution_count": 60,
   "id": "179122cd",
   "metadata": {},
   "outputs": [],
   "source": [
    "def plot_confusion_matrix(y, y_pred):\n",
    "     cm = confusion_matrix(y, y_pred)\n",
    "     sns.heatmap(cm, annot=True, fmt=\".0f\")\n",
    "     plt.xlabel('y_pred')\n",
    "     plt.ylabel('y')\n",
    "     plt.show()\n",
    "\n",
    "plot_confusion_matrix(y_test, y_pred_RFC)"
   ]
  },
  {
   "cell_type": "code",
   "execution_count": 61,
   "id": "c76925ca",
   "metadata": {},
   "outputs": [
    {
     "name": "stdout",
     "output_type": "stream",
     "text": [
      "<AxesSubplot: title={'center': 'Learning Curve'}, xlabel='Training examples', ylabel='Score'>"
     ]
    }
   ],
   "source": [
    "plot_learning_curve(RFC, X_test , y_test)"
   ]
  },
  {
   "cell_type": "code",
   "execution_count": 62,
   "id": "093222ee",
   "metadata": {},
   "outputs": [
    {
     "name": "stdout",
     "output_type": "stream",
     "text": [
      "<AxesSubplot: title={'center': 'ROC Curves'}, xlabel='False Positive Rate', ylabel='True Positive Rate'>"
     ]
    }
   ],
   "source": [
    "RFC.fit(X_train, y_train)\n",
    "y_probas = RFC.predict_proba(X_test)\n",
    "skplt.metrics.plot_roc(y_test, y_probas)"
   ]
  },
  {
   "cell_type": "code",
   "execution_count": 63,
   "id": "aece0be6",
   "metadata": {},
   "outputs": [],
   "source": [
    "GBC = GBC = Pipeline(\n",
    "    steps=[\n",
    "        (\"preprocessor\", preprocessor),\n",
    "        (\"classifier\", GradientBoostingClassifier())]\n",
    ")"
   ]
  },
  {
   "cell_type": "code",
   "execution_count": 64,
   "id": "0308bb69",
   "metadata": {},
   "outputs": [
    {
     "name": "stdout",
     "output_type": "stream",
     "text": [
      "Pipeline(steps=[('preprocessor',\n",
      "                 ColumnTransformer(transformers=[('num',\n",
      "                                                  Pipeline(steps=[('scaler',\n",
      "                                                                   MinMaxScaler())]),\n",
      "                                                  ['ApplicantIncome',\n",
      "                                                   'CoapplicantIncome',\n",
      "                                                   'LoanAmount',\n",
      "                                                   'Loan_Amount_Term',\n",
      "                                                   'Credit_History']),\n",
      "                                                 ('cat',\n",
      "                                                  Pipeline(steps=[('encoder',\n",
      "                                                                   OneHotEncoder())]),\n",
      "                                                  ['Gender', 'Married',\n",
      "                                                   'Dependents', 'Education',\n",
      "                                                   'Self_Employed',\n",
      "                                                   'Property_Area'])])),\n",
      "                ('classifier', GradientBoostingClassifier())])"
     ]
    }
   ],
   "source": [
    "GBC.fit(X_train, y_train)"
   ]
  },
  {
   "cell_type": "code",
   "execution_count": 65,
   "id": "80cebe4a",
   "metadata": {},
   "outputs": [],
   "source": [
    "print(\"accuracy train : %.3f\"%GBC.score(X_train, y_train))\n",
    "print(\"accuracy test : %.3f\"%GBC.score(X_test , y_test))"
   ]
  },
  {
   "cell_type": "code",
   "execution_count": 66,
   "id": "d06eff81",
   "metadata": {},
   "outputs": [],
   "source": [
    "y_pred_GBC = GBC.predict(X_test) "
   ]
  },
  {
   "cell_type": "code",
   "execution_count": 67,
   "id": "fae16039",
   "metadata": {},
   "outputs": [],
   "source": [
    "print(classification_report(y_test, y_pred_GBC))"
   ]
  },
  {
   "cell_type": "code",
   "execution_count": 68,
   "id": "d0951617",
   "metadata": {},
   "outputs": [],
   "source": [
    "def plot_confusion_matrix(y, y_pred):\n",
    "     cm = confusion_matrix(y, y_pred)\n",
    "     sns.heatmap(cm, annot=True, fmt=\".0f\")\n",
    "     plt.xlabel('y_pred')\n",
    "     plt.ylabel('y')\n",
    "     plt.show()\n",
    "\n",
    "plot_confusion_matrix(y_test, y_pred_GBC)"
   ]
  },
  {
   "cell_type": "code",
   "execution_count": 69,
   "id": "1c65b608",
   "metadata": {},
   "outputs": [
    {
     "name": "stdout",
     "output_type": "stream",
     "text": [
      "<AxesSubplot: title={'center': 'Learning Curve'}, xlabel='Training examples', ylabel='Score'>"
     ]
    }
   ],
   "source": [
    "plot_learning_curve(GBC,X_test , y_test)"
   ]
  },
  {
   "cell_type": "code",
   "execution_count": 70,
   "id": "765dc45f",
   "metadata": {},
   "outputs": [
    {
     "name": "stdout",
     "output_type": "stream",
     "text": [
      "<AxesSubplot: title={'center': 'ROC Curves'}, xlabel='False Positive Rate', ylabel='True Positive Rate'>"
     ]
    }
   ],
   "source": [
    "GBC.fit(X_train, y_train)\n",
    "y_probas = GBC.predict_proba(X_test)\n",
    "skplt.metrics.plot_roc(y_test, y_probas)"
   ]
  },
  {
   "cell_type": "code",
   "execution_count": 71,
   "id": "6bd478f1",
   "metadata": {},
   "outputs": [],
   "source": [
    "print(X_test)"
   ]
  },
  {
   "cell_type": "code",
   "execution_count": 72,
   "id": "bc0b10dc",
   "metadata": {},
   "outputs": [],
   "source": [
    "prediction = GBC.predict(X_test)"
   ]
  },
  {
   "cell_type": "code",
   "execution_count": 73,
   "id": "ff84d824",
   "metadata": {},
   "outputs": [],
   "source": [
    "print(prediction)"
   ]
  },
  {
   "cell_type": "code",
   "execution_count": 74,
   "id": "4343a4e1",
   "metadata": {},
   "outputs": [],
   "source": [
    "## TAken data from the dataset\n",
    "t = GBC.predict([[0.0,\t0.0,\t0.0,\t1,\t0.0,\t1811,\t1666.0,\t54.0,\t360.0,\t1.0,\t2]])"
   ]
  },
  {
   "cell_type": "code",
   "execution_count": 75,
   "id": "d73b35a4",
   "metadata": {},
   "outputs": [],
   "source": [
    "from sqlalchemy import column\n",
    "from sqlalchemy import create_engine\n",
    "# sqlalchemy.py \n",
    "from sqlalchemy import *"
   ]
  },
  {
   "cell_type": "code",
   "execution_count": 76,
   "id": "e21d540d",
   "metadata": {},
   "outputs": [
    {
     "name": "stdout",
     "output_type": "stream",
     "text": [
      "113"
     ]
    }
   ],
   "source": [
    "engine=create_engine(\"mysql+pymysql://{user}:{pw}@{host}/{db}\".format\n",
    "                     (host=\"localhost\",user=\"root\",pw=\"youcef\",db=\"loan_prediction\"))\n",
    "conne=engine.connect()\n",
    "X_test.to_sql('ml_pred',conne,if_exists='replace',index = False)"
   ]
  },
  {
   "cell_type": "code",
   "execution_count": 77,
   "id": "f51f09b0",
   "metadata": {},
   "outputs": [
    {
     "name": "stdout",
     "output_type": "stream",
     "text": [
      "<wandb.sdk.wandb_run.Run at 0x28185006ac0>"
     ]
    },
    {
     "data": {
      "text/html": [
       "wandb version 0.13.10 is available!  To upgrade, please run:\n",
       " $ pip install wandb --upgrade"
      ],
      "text/plain": [
       "<IPython.core.display.HTML object>"
      ]
     },
     "metadata": {},
     "output_type": "display_data"
    },
    {
     "data": {
      "text/html": [
       "Tracking run with wandb version 0.13.9"
      ],
      "text/plain": [
       "<IPython.core.display.HTML object>"
      ]
     },
     "metadata": {},
     "output_type": "display_data"
    },
    {
     "data": {
      "text/html": [
       "Run data is saved locally in <code>C:\\Users\\simplon\\Desktop\\Notebooks\\Dossier_App_Fil_Rouge\\notebook\\wandb\\run-20230214_093024-hnd92meu</code>"
      ],
      "text/plain": [
       "<IPython.core.display.HTML object>"
      ]
     },
     "metadata": {},
     "output_type": "display_data"
    },
    {
     "data": {
      "text/html": [
       "Syncing run <strong><a href=\"https://wandb.ai/youcef-boucheta-simplon/%3Cproject_Loan_Prediction%3E/runs/hnd92meu\" target=\"_blank\">dreamy-chocolate-1</a></strong> to <a href=\"https://wandb.ai/youcef-boucheta-simplon/%3Cproject_Loan_Prediction%3E\" target=\"_blank\">Weights & Biases</a> (<a href=\"https://wandb.me/run\" target=\"_blank\">docs</a>)<br/>"
      ],
      "text/plain": [
       "<IPython.core.display.HTML object>"
      ]
     },
     "metadata": {},
     "output_type": "display_data"
    },
    {
     "data": {
      "text/html": [
       " View project at <a href=\"https://wandb.ai/youcef-boucheta-simplon/%3Cproject_Loan_Prediction%3E\" target=\"_blank\">https://wandb.ai/youcef-boucheta-simplon/%3Cproject_Loan_Prediction%3E</a>"
      ],
      "text/plain": [
       "<IPython.core.display.HTML object>"
      ]
     },
     "metadata": {},
     "output_type": "display_data"
    },
    {
     "data": {
      "text/html": [
       " View run at <a href=\"https://wandb.ai/youcef-boucheta-simplon/%3Cproject_Loan_Prediction%3E/runs/hnd92meu\" target=\"_blank\">https://wandb.ai/youcef-boucheta-simplon/%3Cproject_Loan_Prediction%3E/runs/hnd92meu</a>"
      ],
      "text/plain": [
       "<IPython.core.display.HTML object>"
      ]
     },
     "metadata": {},
     "output_type": "display_data"
    }
   ],
   "source": [
    "import wandb\n",
    "import random\n",
    "import time\n",
    "import wandb\n",
    "from wandb import AlertLevel\n",
    "from datetime import timedelta\n",
    "\n",
    "\n",
    "wandb.init(project='<project_Loan_Prediction>')"
   ]
  },
  {
   "cell_type": "code",
   "execution_count": 78,
   "id": "0900fe15",
   "metadata": {},
   "outputs": [],
   "source": [
    "# start a new wandb run to track this script\n",
    "wandb.init(\n",
    "    # set the wandb project where this run will be logged\n",
    "    project=\"my-awesome-project\",\n",
    "    \n",
    "    # track hyperparameters and run metadata\n",
    "    config={\n",
    "    \"learning_rate\": 0.02,\n",
    "    \"architecture\": \"ML\",\n",
    "    \"dataset\": \"CIFAR-100\",\n",
    "    \"epochs\": 10,\n",
    "    }\n",
    ")\n",
    "\n",
    "# simulate training\n",
    "epochs = 10\n",
    "offset = random.random() / 5\n",
    "for epoch in range(2, epochs):\n",
    "    recall = 1 - 2 ** -epoch - random.random() / epoch - offset\n",
    "    loss = 2 ** -epoch + random.random() / epoch + offset\n",
    "    \n",
    "    # log metrics to wandb\n",
    "#     wandb.log({\"recall\": recall, \"loss\": loss})\n",
    "    wandb.log({'recall': 0.99})\n",
    "    \n",
    "# [optional] finish the wandb run, necessary in notebooks\n",
    "wandb.finish()"
   ]
  }
 ],
 "metadata": {
  "kernelspec": {
   "display_name": "Python 3",
   "language": "python",
   "name": "python3"
  },
  "language_info": {
   "codemirror_mode": {
    "name": "ipython",
    "version": 3
   },
   "file_extension": ".py",
   "mimetype": "text/x-python",
   "name": "python",
   "nbconvert_exporter": "python",
   "pygments_lexer": "ipython3",
   "version": "3.8.8"
  }
 },
 "nbformat": 4,
 "nbformat_minor": 5
}
